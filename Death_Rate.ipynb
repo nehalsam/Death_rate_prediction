{
 "cells": [
  {
   "cell_type": "code",
   "execution_count": 17,
   "metadata": {},
   "outputs": [
    {
     "name": "stdout",
     "output_type": "stream",
     "text": [
      "47 45 79 6.5\n",
      "1236.3853534607242\n"
     ]
    }
   ],
   "source": [
    "import pandas as pd  \n",
    "import numpy as np  \n",
    "import matplotlib.pyplot as plt  \n",
    "import seaborn as seabornInstance \n",
    "from sklearn.model_selection import train_test_split \n",
    "from sklearn.linear_model import LinearRegression\n",
    "from sklearn import metrics\n",
    "import statistics\n",
    "%matplotlib inline\n",
    "#read dataset of csv format and label it\n",
    "X=pd.read_csv('death_rate.csv',names=('A1','A2','A3','A4','A5','A6','A7','A8','A9','A10','A11','A12','A13','A14','A15','B'))\n",
    "#extract each column and convert it into list\n",
    "A1 = X['A1']\n",
    "A1 = list(A1)\n",
    "A2 = X['A2']\n",
    "A2 = list(A2)\n",
    "A3 = X['A3']\n",
    "A3 = list(A3)\n",
    "A4 = X['A4']\n",
    "A4 = list(A4)\n",
    "B = X['B']\n",
    "B = list(B)\n",
    "#find mean of each independend and dependent variables\n",
    "X1=statistics.mean(A1)\n",
    "X2=statistics.mean(A2)\n",
    "X3=statistics.mean(A3)\n",
    "X4=statistics.mean(A4)\n",
    "Y1=statistics.mean(B)\n",
    "#function to find theta_1\n",
    "def fun1(x,y,z):\n",
    "    lst1=[]\n",
    "    lst2=[]\n",
    "    ls1=[]\n",
    "    ls2=[]\n",
    "    for i in range(len(x)):\n",
    "        a=x[i]-z\n",
    "        lst1.append(a)\n",
    "    for i in range(len(x)):\n",
    "        b=y[i]-Y1\n",
    "        lst2.append(b)\n",
    "\n",
    "    q=np.array(lst1)\n",
    "    r=np.array(lst2)\n",
    "    h=list(q*r)\n",
    "\n",
    "    s=list(np.square(lst1))\n",
    "    O1=sum(h)/sum(s)\n",
    "    O01=Y1-(O1*z)\n",
    "    ls1.append(O1)\n",
    "    ls2.append(O01)\n",
    "    ls1=ls1+ls2\n",
    "    return ls1\n",
    "aa=fun1(A1,B,X1)\n",
    "bb=fun1(A2,B,X2)\n",
    "cc=fun1(A3,B,X3)\n",
    "dd=fun1(A4,B,X4)\n",
    "\n",
    "O0=(aa[1]+bb[1]+cc[1]+dd[1])/4\n",
    "x1,x2,x3,x4=map(float,input().split())\n",
    "value=O0+aa[0]*x1+bb[0]*x2+cc[0]*x3+dd[0]*x4\n",
    "print(value)"
   ]
  },
  {
   "cell_type": "code",
   "execution_count": 3,
   "metadata": {},
   "outputs": [
    {
     "data": {
      "text/plain": [
       "(60, 16)"
      ]
     },
     "execution_count": 3,
     "metadata": {},
     "output_type": "execute_result"
    }
   ],
   "source": [
    "X.shape"
   ]
  },
  {
   "cell_type": "code",
   "execution_count": 4,
   "metadata": {},
   "outputs": [
    {
     "data": {
      "text/html": [
       "<div>\n",
       "<style scoped>\n",
       "    .dataframe tbody tr th:only-of-type {\n",
       "        vertical-align: middle;\n",
       "    }\n",
       "\n",
       "    .dataframe tbody tr th {\n",
       "        vertical-align: top;\n",
       "    }\n",
       "\n",
       "    .dataframe thead th {\n",
       "        text-align: right;\n",
       "    }\n",
       "</style>\n",
       "<table border=\"1\" class=\"dataframe\">\n",
       "  <thead>\n",
       "    <tr style=\"text-align: right;\">\n",
       "      <th></th>\n",
       "      <th>A1</th>\n",
       "      <th>A2</th>\n",
       "      <th>A3</th>\n",
       "      <th>A4</th>\n",
       "      <th>A5</th>\n",
       "      <th>A6</th>\n",
       "      <th>A7</th>\n",
       "      <th>A8</th>\n",
       "      <th>A9</th>\n",
       "      <th>A10</th>\n",
       "      <th>A11</th>\n",
       "      <th>A12</th>\n",
       "      <th>A13</th>\n",
       "      <th>A14</th>\n",
       "      <th>A15</th>\n",
       "      <th>B</th>\n",
       "    </tr>\n",
       "  </thead>\n",
       "  <tbody>\n",
       "    <tr>\n",
       "      <th>count</th>\n",
       "      <td>60.000000</td>\n",
       "      <td>60.000000</td>\n",
       "      <td>60.000000</td>\n",
       "      <td>60.000000</td>\n",
       "      <td>60.000000</td>\n",
       "      <td>60.000000</td>\n",
       "      <td>60.000000</td>\n",
       "      <td>60.000000</td>\n",
       "      <td>60.000000</td>\n",
       "      <td>60.000000</td>\n",
       "      <td>60.000000</td>\n",
       "      <td>60.000000</td>\n",
       "      <td>60.000000</td>\n",
       "      <td>60.000000</td>\n",
       "      <td>60.000000</td>\n",
       "      <td>60.000000</td>\n",
       "    </tr>\n",
       "    <tr>\n",
       "      <th>mean</th>\n",
       "      <td>37.366667</td>\n",
       "      <td>34.816667</td>\n",
       "      <td>74.600000</td>\n",
       "      <td>8.798333</td>\n",
       "      <td>3.263167</td>\n",
       "      <td>10.973333</td>\n",
       "      <td>80.913333</td>\n",
       "      <td>3876.050000</td>\n",
       "      <td>11.873333</td>\n",
       "      <td>46.073333</td>\n",
       "      <td>14.373333</td>\n",
       "      <td>37.850000</td>\n",
       "      <td>22.516667</td>\n",
       "      <td>53.766667</td>\n",
       "      <td>57.533333</td>\n",
       "      <td>940.358433</td>\n",
       "    </tr>\n",
       "    <tr>\n",
       "      <th>std</th>\n",
       "      <td>9.984678</td>\n",
       "      <td>11.975245</td>\n",
       "      <td>4.766408</td>\n",
       "      <td>1.464552</td>\n",
       "      <td>0.135252</td>\n",
       "      <td>0.845299</td>\n",
       "      <td>5.141373</td>\n",
       "      <td>1454.102361</td>\n",
       "      <td>8.919886</td>\n",
       "      <td>4.626851</td>\n",
       "      <td>4.160096</td>\n",
       "      <td>91.977673</td>\n",
       "      <td>46.358402</td>\n",
       "      <td>63.390468</td>\n",
       "      <td>5.460076</td>\n",
       "      <td>62.206278</td>\n",
       "    </tr>\n",
       "    <tr>\n",
       "      <th>min</th>\n",
       "      <td>10.000000</td>\n",
       "      <td>12.000000</td>\n",
       "      <td>63.000000</td>\n",
       "      <td>5.600000</td>\n",
       "      <td>2.920000</td>\n",
       "      <td>9.000000</td>\n",
       "      <td>66.800000</td>\n",
       "      <td>1441.000000</td>\n",
       "      <td>0.800000</td>\n",
       "      <td>33.800000</td>\n",
       "      <td>9.400000</td>\n",
       "      <td>1.000000</td>\n",
       "      <td>1.000000</td>\n",
       "      <td>1.000000</td>\n",
       "      <td>38.000000</td>\n",
       "      <td>790.733000</td>\n",
       "    </tr>\n",
       "    <tr>\n",
       "      <th>25%</th>\n",
       "      <td>32.750000</td>\n",
       "      <td>27.000000</td>\n",
       "      <td>72.000000</td>\n",
       "      <td>7.675000</td>\n",
       "      <td>3.210000</td>\n",
       "      <td>10.400000</td>\n",
       "      <td>78.375000</td>\n",
       "      <td>3104.250000</td>\n",
       "      <td>4.950000</td>\n",
       "      <td>43.250000</td>\n",
       "      <td>12.000000</td>\n",
       "      <td>7.000000</td>\n",
       "      <td>4.000000</td>\n",
       "      <td>11.000000</td>\n",
       "      <td>54.750000</td>\n",
       "      <td>898.372000</td>\n",
       "    </tr>\n",
       "    <tr>\n",
       "      <th>50%</th>\n",
       "      <td>38.000000</td>\n",
       "      <td>31.500000</td>\n",
       "      <td>74.000000</td>\n",
       "      <td>9.000000</td>\n",
       "      <td>3.265000</td>\n",
       "      <td>11.050000</td>\n",
       "      <td>81.150000</td>\n",
       "      <td>3567.000000</td>\n",
       "      <td>10.400000</td>\n",
       "      <td>45.500000</td>\n",
       "      <td>13.200000</td>\n",
       "      <td>14.500000</td>\n",
       "      <td>9.000000</td>\n",
       "      <td>30.000000</td>\n",
       "      <td>57.000000</td>\n",
       "      <td>943.683000</td>\n",
       "    </tr>\n",
       "    <tr>\n",
       "      <th>75%</th>\n",
       "      <td>43.250000</td>\n",
       "      <td>40.000000</td>\n",
       "      <td>77.250000</td>\n",
       "      <td>9.700000</td>\n",
       "      <td>3.360000</td>\n",
       "      <td>11.500000</td>\n",
       "      <td>83.600000</td>\n",
       "      <td>4519.750000</td>\n",
       "      <td>15.650000</td>\n",
       "      <td>49.525000</td>\n",
       "      <td>15.150000</td>\n",
       "      <td>30.250000</td>\n",
       "      <td>23.750000</td>\n",
       "      <td>69.000000</td>\n",
       "      <td>60.000000</td>\n",
       "      <td>983.205750</td>\n",
       "    </tr>\n",
       "    <tr>\n",
       "      <th>max</th>\n",
       "      <td>60.000000</td>\n",
       "      <td>83.000000</td>\n",
       "      <td>85.000000</td>\n",
       "      <td>11.800000</td>\n",
       "      <td>3.530000</td>\n",
       "      <td>12.300000</td>\n",
       "      <td>90.700000</td>\n",
       "      <td>9699.000000</td>\n",
       "      <td>38.500000</td>\n",
       "      <td>59.700000</td>\n",
       "      <td>26.400000</td>\n",
       "      <td>648.000000</td>\n",
       "      <td>319.000000</td>\n",
       "      <td>278.000000</td>\n",
       "      <td>73.000000</td>\n",
       "      <td>1113.156000</td>\n",
       "    </tr>\n",
       "  </tbody>\n",
       "</table>\n",
       "</div>"
      ],
      "text/plain": [
       "              A1         A2         A3         A4         A5         A6  \\\n",
       "count  60.000000  60.000000  60.000000  60.000000  60.000000  60.000000   \n",
       "mean   37.366667  34.816667  74.600000   8.798333   3.263167  10.973333   \n",
       "std     9.984678  11.975245   4.766408   1.464552   0.135252   0.845299   \n",
       "min    10.000000  12.000000  63.000000   5.600000   2.920000   9.000000   \n",
       "25%    32.750000  27.000000  72.000000   7.675000   3.210000  10.400000   \n",
       "50%    38.000000  31.500000  74.000000   9.000000   3.265000  11.050000   \n",
       "75%    43.250000  40.000000  77.250000   9.700000   3.360000  11.500000   \n",
       "max    60.000000  83.000000  85.000000  11.800000   3.530000  12.300000   \n",
       "\n",
       "              A7           A8         A9        A10        A11         A12  \\\n",
       "count  60.000000    60.000000  60.000000  60.000000  60.000000   60.000000   \n",
       "mean   80.913333  3876.050000  11.873333  46.073333  14.373333   37.850000   \n",
       "std     5.141373  1454.102361   8.919886   4.626851   4.160096   91.977673   \n",
       "min    66.800000  1441.000000   0.800000  33.800000   9.400000    1.000000   \n",
       "25%    78.375000  3104.250000   4.950000  43.250000  12.000000    7.000000   \n",
       "50%    81.150000  3567.000000  10.400000  45.500000  13.200000   14.500000   \n",
       "75%    83.600000  4519.750000  15.650000  49.525000  15.150000   30.250000   \n",
       "max    90.700000  9699.000000  38.500000  59.700000  26.400000  648.000000   \n",
       "\n",
       "              A13         A14        A15            B  \n",
       "count   60.000000   60.000000  60.000000    60.000000  \n",
       "mean    22.516667   53.766667  57.533333   940.358433  \n",
       "std     46.358402   63.390468   5.460076    62.206278  \n",
       "min      1.000000    1.000000  38.000000   790.733000  \n",
       "25%      4.000000   11.000000  54.750000   898.372000  \n",
       "50%      9.000000   30.000000  57.000000   943.683000  \n",
       "75%     23.750000   69.000000  60.000000   983.205750  \n",
       "max    319.000000  278.000000  73.000000  1113.156000  "
      ]
     },
     "execution_count": 4,
     "metadata": {},
     "output_type": "execute_result"
    }
   ],
   "source": [
    "X.describe()"
   ]
  },
  {
   "cell_type": "code",
   "execution_count": 5,
   "metadata": {},
   "outputs": [
    {
     "data": {
      "image/png": "[encoded data removed]",
      "text/plain": [
       "<Figure size 432x288 with 1 Axes>"
      ]
     },
     "metadata": {
      "needs_background": "light"
     },
     "output_type": "display_data"
    }
   ],
   "source": [
    "X.plot(x='A1' ,y='B', style='o')\n",
    "plt.title('Average annual precipitation vrs The Death Rate')\n",
    "plt.xlabel('A1')\n",
    "plt.ylabel('B')\n",
    "plt.show()"
   ]
  },
  {
   "cell_type": "code",
   "execution_count": 6,
   "metadata": {},
   "outputs": [
    {
     "data": {
      "image/png": "[encoded data removed]",
      "text/plain": [
       "<Figure size 432x288 with 1 Axes>"
      ]
     },
     "metadata": {
      "needs_background": "light"
     },
     "output_type": "display_data"
    }
   ],
   "source": [
    "X.plot(x='A2', y='B' ,style='o')\n",
    "plt.title('Average January temp. vrs The Death Rate')\n",
    "plt.xlabel('A2')\n",
    "plt.ylabel('B')\n",
    "plt.show()"
   ]
  },
  {
   "cell_type": "code",
   "execution_count": 7,
   "metadata": {},
   "outputs": [
    {
     "data": {
      "image/png": "[encoded data removed]",
      "text/plain": [
       "<Figure size 432x288 with 1 Axes>"
      ]
     },
     "metadata": {
      "needs_background": "light"
     },
     "output_type": "display_data"
    }
   ],
   "source": [
    "X.plot(x='A3',y='B', style='o')\n",
    "plt.title('Average July temp. vrs The Death Rate')\n",
    "plt.xlabel('A3')\n",
    "plt.ylabel('B')\n",
    "plt.show()"
   ]
  },
  {
   "cell_type": "code",
   "execution_count": 14,
   "metadata": {},
   "outputs": [
    {
     "data": {
      "image/png": "[encoded data removed]",
      "text/plain": [
       "<Figure size 432x288 with 1 Axes>"
      ]
     },
     "metadata": {
      "needs_background": "light"
     },
     "output_type": "display_data"
    }
   ],
   "source": [
    "X.plot(x='A4', y='B', style='o')\n",
    "plt.title('Size of population older than 65')\n",
    "plt.xlabel('A4')\n",
    "plt.ylabel('B')\n",
    "plt.show()"
   ]
  },
  {
   "cell_type": "code",
   "execution_count": 8,
   "metadata": {},
   "outputs": [
    {
     "data": {
      "text/plain": [
       "A1     False\n",
       "A2     False\n",
       "A3     False\n",
       "A4     False\n",
       "A5     False\n",
       "A6     False\n",
       "A7     False\n",
       "A8     False\n",
       "A9     False\n",
       "A10    False\n",
       "A11    False\n",
       "A12    False\n",
       "A13    False\n",
       "A14    False\n",
       "A15    False\n",
       "B      False\n",
       "dtype: bool"
      ]
     },
     "execution_count": 8,
     "metadata": {},
     "output_type": "execute_result"
    }
   ],
   "source": [
    "X.isnull().any()"
   ]
  },
  {
   "cell_type": "code",
   "execution_count": 9,
   "metadata": {},
   "outputs": [],
   "source": [
    "x=X[['A1','A2','A3','A4']].values\n",
    "y=X['B'].values"
   ]
  },
  {
   "cell_type": "code",
   "execution_count": 13,
   "metadata": {},
   "outputs": [
    {
     "data": {
      "text/plain": [
       "<matplotlib.axes._subplots.AxesSubplot at 0x2b24df0>"
      ]
     },
     "execution_count": 13,
     "metadata": {},
     "output_type": "execute_result"
    },
    {
     "data": {
      "image/png": "[encoded data removed]",
      "text/plain": [
       "<Figure size 1080x720 with 1 Axes>"
      ]
     },
     "metadata": {
      "needs_background": "light"
     },
     "output_type": "display_data"
    }
   ],
   "source": [
    "plt.figure(figsize=(15,10))\n",
    "plt.tight_layout()\n",
    "seabornInstance.distplot(X['B'])"
   ]
  },
  {
   "cell_type": "code",
   "execution_count": 19,
   "metadata": {},
   "outputs": [
    {
     "name": "stdout",
     "output_type": "stream",
     "text": [
      "-23.029961481555876\n"
     ]
    }
   ],
   "source": [
    "SSE=0\n",
    "SST=0\n",
    "for i in range(len(B)):\n",
    "    SSE=SSE+(B[i]-value)**2\n",
    "    SST=SST+(B[i]-Y1)**2\n",
    "    \n",
    "r2=1-(SSE/SST)\n",
    "print(r2)"
   ]
  },
  {
   "cell_type": "code",
   "execution_count": 43,
   "metadata": {},
   "outputs": [
    {
     "name": "stdout",
     "output_type": "stream",
     "text": [
      "[908.70203302 963.5690158  951.21690263 811.62548584 926.88863099\n",
      " 948.20092842 957.90915704 884.76789747 910.89745118 985.86571824\n",
      " 972.82673937 997.45032305]\n",
      "0.3510190572560159\n"
     ]
    }
   ],
   "source": [
    "from sklearn.model_selection import train_test_split\n",
    "p=X.iloc[:,:-12]\n",
    "q=X['B']\n",
    "p_train,p_test,q_train,q_test=train_test_split(p,q,test_size=0.2,random_state=0)\n",
    "from sklearn.linear_model import LinearRegression\n",
    "regressor=LinearRegression()\n",
    "regressor.fit(p_train,q_train)\n",
    "#a=[float(x) for x in input().split()]\n",
    "#a=[a]\n",
    "pred=regressor.predict(p_test)\n",
    "print(pred)\n",
    "\n",
    "from sklearn.metrics import r2_score\n",
    "s=r2_score(q_test,pred)\n",
    "print(s)"
   ]
  },
  {
   "cell_type": "code",
   "execution_count": null,
   "metadata": {},
   "outputs": [],
   "source": []
  }
 ],
 "metadata": {
  "kernelspec": {
   "display_name": "Python 3",
   "language": "python",
   "name": "python3"
  },
  "language_info": {
   "codemirror_mode": {
    "name": "ipython",
    "version": 3
   },
   "file_extension": ".py",
   "mimetype": "text/x-python",
   "name": "python",
   "nbconvert_exporter": "python",
   "pygments_lexer": "ipython3",
   "version": "3.6.5"
  }
 },
 "nbformat": 4,
 "nbformat_minor": 2
}
